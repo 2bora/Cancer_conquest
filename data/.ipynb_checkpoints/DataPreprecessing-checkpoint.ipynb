{
 "cells": [
  {
   "cell_type": "code",
   "execution_count": 2,
   "metadata": {},
   "outputs": [],
   "source": [
    "import pandas as pd\n",
    "import numpy as np"
   ]
  },
  {
   "cell_type": "code",
   "execution_count": 3,
   "metadata": {
    "scrolled": true
   },
   "outputs": [],
   "source": [
    "data = pd.read_csv(\"./clinic.csv\")"
   ]
  },
  {
   "cell_type": "code",
   "execution_count": 10,
   "metadata": {},
   "outputs": [],
   "source": [
    "a = data.loc[data.BMI >2]"
   ]
  },
  {
   "cell_type": "code",
   "execution_count": 13,
   "metadata": {},
   "outputs": [],
   "source": [
    "a.index = range(len(a))"
   ]
  },
  {
   "cell_type": "code",
   "execution_count": null,
   "metadata": {},
   "outputs": [],
   "source": []
  },
  {
   "cell_type": "code",
   "execution_count": 197,
   "metadata": {},
   "outputs": [],
   "source": [
    "# PID 생성\n",
    "for i, row in data.iterrows():\n",
    "    a = row[0].split(\"-\")\n",
    "    if \"20\" in a[1]:\n",
    "        data.iloc[i,0] = a[1][-2:] + a[2]\n",
    "    else : \n",
    "        data.iloc[i,0] = a[1]+a[2]"
   ]
  },
  {
   "cell_type": "code",
   "execution_count": 199,
   "metadata": {
    "scrolled": true
   },
   "outputs": [],
   "source": [
    "# AGE 카테고리\n",
    "i=0\n",
    "j=20\n",
    "while i < 8:\n",
    "    a = data.loc[data.Age.isin(range(j,j+10))].index.tolist()\n",
    "    data.iloc[a,2] = i\n",
    "    i += 1\n",
    "    j += 10 "
   ]
  },
  {
   "cell_type": "code",
   "execution_count": 200,
   "metadata": {
    "collapsed": true
   },
   "outputs": [
    {
     "name": "stdout",
     "output_type": "stream",
     "text": [
      "0\n",
      "31\n",
      "1\n",
      "2\n",
      "3\n",
      "4\n"
     ]
    }
   ],
   "source": [
    "#BMI 카테고리\n",
    "i=0\n",
    "index =[]\n",
    "while i <5 :\n",
    "    if i == 0:\n",
    "        a = data.loc[data.BMI<18.5].index.tolist()\n",
    "        data.iloc[a,3] = i\n",
    "        for j in a:\n",
    "            index.append(j)\n",
    "        i += 1\n",
    "    elif i == 1:\n",
    "        b = data.loc[data.BMI<25].index.tolist()\n",
    "        for j in index:\n",
    "            b.remove(j)\n",
    "        data.iloc[b,3] = i\n",
    "        for k in b:\n",
    "            index.append(k)\n",
    "        i +=1\n",
    "    elif i == 2:\n",
    "        c = data.loc[data.BMI<30].index.tolist()\n",
    "        for j in index:\n",
    "            c.remove(j)\n",
    "        data.iloc[c,3] = i\n",
    "        for k in c :\n",
    "            index.append(k)\n",
    "        i += 1\n",
    "    elif i == 3 :\n",
    "        d = data.loc[data.BMI<40].index.tolist()\n",
    "        for j in index:\n",
    "            d.remove(j)\n",
    "        data.iloc[d,3] =i\n",
    "        for k in d:\n",
    "            index.append(k)\n",
    "        i +=1\n",
    "    elif i == 4 :\n",
    "        e = data.loc[data.BMI<50].index.tolist()\n",
    "        for j in index:\n",
    "            e.remove(j)\n",
    "        data.iloc[e,3]=i\n",
    "        i+=1"
   ]
  },
  {
   "cell_type": "code",
   "execution_count": null,
   "metadata": {},
   "outputs": [],
   "source": [
    "# 날짜 변환\n",
    "\n",
    "for i, row in data.iterrows():\n",
    "    a = row[\"OperationDate\"].split(\"/\")\n",
    "    print(a)\n",
    "    if len(a) == 3:\n",
    "        print(a)\n",
    "        data.ix[i,\"OperationDate\"] = \"20\"+str(a[2])+\".\"+str(a[0])+\".\"+str(a[1])"
   ]
  },
  {
   "cell_type": "code",
   "execution_count": 72,
   "metadata": {
    "scrolled": false
   },
   "outputs": [],
   "source": [
    "clinic=pd.read_csv(\"./clinic.csv\")"
   ]
  },
  {
   "cell_type": "code",
   "execution_count": null,
   "metadata": {},
   "outputs": [],
   "source": []
  }
 ],
 "metadata": {
  "kernelspec": {
   "display_name": "Python 2",
   "language": "python",
   "name": "python2"
  },
  "language_info": {
   "codemirror_mode": {
    "name": "ipython",
    "version": 2
   },
   "file_extension": ".py",
   "mimetype": "text/x-python",
   "name": "python",
   "nbconvert_exporter": "python",
   "pygments_lexer": "ipython2",
   "version": "2.7.10"
  }
 },
 "nbformat": 4,
 "nbformat_minor": 2
}
